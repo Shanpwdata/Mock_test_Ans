{
  "metadata": {
    "language_info": {
      "codemirror_mode": {
        "name": "python",
        "version": 3
      },
      "file_extension": ".py",
      "mimetype": "text/x-python",
      "name": "python",
      "nbconvert_exporter": "python",
      "pygments_lexer": "ipython3",
      "version": "3.8"
    },
    "kernelspec": {
      "name": "python",
      "display_name": "Python (Pyodide)",
      "language": "python"
    }
  },
  "nbformat_minor": 4,
  "nbformat": 4,
  "cells": [
    {
      "cell_type": "markdown",
      "source": "Move Zeroes\nGiven an integer array nums, move all 0's to the end of it while maintaining the relative order of the non-zero elements.\n\nNote that you must do this in-place without making a copy of the array.\n\nExample 1:\nInput: nums = [0,1,0,3,12]\nOutput: [1,3,12,0,0]\n\nExample 2:\nInput: nums = [0]\nOutput: [0]\n\nConstraints:\na. 1 <= nums.length <= 10^4\nb. -2^31 <= nums[i] <= 2^31 - 1\n\nNote: Create a GitHub file for the solution and add the file link the the answer section below.",
      "metadata": {}
    },
    {
      "cell_type": "code",
      "source": "def remove_zero(nums):\n    high = len(nums)-1\n    for i in range(high):\n        if nums[i] == 0:\n            for j in range(i,high+1):\n                if nums[j] !=0 :\n                    nums[i],nums[j]=nums[j],nums[i]\n                    break\n    return nums",
      "metadata": {
        "trusted": true
      },
      "execution_count": 1,
      "outputs": []
    },
    {
      "cell_type": "code",
      "source": "remove_zero([0,1,0,3,12])",
      "metadata": {
        "trusted": true
      },
      "execution_count": 2,
      "outputs": [
        {
          "execution_count": 2,
          "output_type": "execute_result",
          "data": {
            "text/plain": "[1, 3, 12, 0, 0]"
          },
          "metadata": {}
        }
      ]
    },
    {
      "cell_type": "code",
      "source": "remove_zero([0])",
      "metadata": {
        "trusted": true
      },
      "execution_count": 3,
      "outputs": [
        {
          "execution_count": 3,
          "output_type": "execute_result",
          "data": {
            "text/plain": "[0]"
          },
          "metadata": {}
        }
      ]
    },
    {
      "cell_type": "markdown",
      "source": "First Unique Character in a String\n\nGiven a string s, find the first non-repeating character in it and return its index. If it does not exist, return -1.\n\nExample 1:\nInput: s = \"leetcode\"\nOutput: 0\n\nExample 2:\nInput: s = \"loveleetcode\"\nOutput: 2\n\nExample 3:\nInput: s = \"aabb\"\nOutput: -1\n\nConstraints:\na. 1 <= s.length <= 10^5\nb. s consists of only lowercase English letters.\n\nNote: Create a GitHub file for the solution and add the file link the the answer section below.",
      "metadata": {}
    },
    {
      "cell_type": "code",
      "source": "def first_non_rep(s):\n    for i in range(len(s)):\n        x = False\n        for j in range(0,len(s)):\n            if i != j :\n                if s[i] ==s[j] :\n                    x= True\n                    break\n        if x == False:\n            return i\n    return -1",
      "metadata": {
        "trusted": true
      },
      "execution_count": 37,
      "outputs": []
    },
    {
      "cell_type": "code",
      "source": "first_non_rep(\"leetcode\")",
      "metadata": {
        "trusted": true
      },
      "execution_count": 38,
      "outputs": [
        {
          "execution_count": 38,
          "output_type": "execute_result",
          "data": {
            "text/plain": "0"
          },
          "metadata": {}
        }
      ]
    },
    {
      "cell_type": "code",
      "source": "first_non_rep(\"loveleetcode\")",
      "metadata": {
        "trusted": true
      },
      "execution_count": 39,
      "outputs": [
        {
          "execution_count": 39,
          "output_type": "execute_result",
          "data": {
            "text/plain": "2"
          },
          "metadata": {}
        }
      ]
    },
    {
      "cell_type": "code",
      "source": "first_non_rep(\"aabb\")",
      "metadata": {
        "trusted": true
      },
      "execution_count": 40,
      "outputs": [
        {
          "execution_count": 40,
          "output_type": "execute_result",
          "data": {
            "text/plain": "-1"
          },
          "metadata": {}
        }
      ]
    },
    {
      "cell_type": "code",
      "source": "",
      "metadata": {},
      "execution_count": null,
      "outputs": []
    }
  ]
}